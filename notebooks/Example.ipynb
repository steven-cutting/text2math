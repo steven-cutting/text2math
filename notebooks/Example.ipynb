{
 "cells": [
  {
   "cell_type": "code",
   "execution_count": 1,
   "metadata": {
    "collapsed": true
   },
   "outputs": [],
   "source": [
    "%load_ext autoreload\n",
    "%autoreload 2"
   ]
  },
  {
   "cell_type": "code",
   "execution_count": 2,
   "metadata": {
    "collapsed": true
   },
   "outputs": [],
   "source": [
    "import cytoolz as tlz"
   ]
  },
  {
   "cell_type": "code",
   "execution_count": 3,
   "metadata": {
    "collapsed": false
   },
   "outputs": [],
   "source": [
    "from text2math import raw2text as r2t\n",
    "from text2math import text2tokens as t2t\n",
    "from text2math import tokens2numbers as t2n\n",
    "import text2math as txt2m"
   ]
  },
  {
   "cell_type": "markdown",
   "metadata": {},
   "source": [
    "# The Text\n",
    "\n",
    "Posts from [RaspberryPi StackExchange](http://raspberrypi.stackexchange.com/)\n",
    "\n",
    "Stored as a single large xml file.\n",
    "\n",
    "24,925 posts"
   ]
  },
  {
   "cell_type": "markdown",
   "metadata": {},
   "source": [
    "**`get_text_from_xml_file`** extracts the Title and Body for each post."
   ]
  },
  {
   "cell_type": "code",
   "execution_count": 4,
   "metadata": {
    "collapsed": false
   },
   "outputs": [],
   "source": [
    "TXT_STREAM = r2t.get_text_from_xml_file(\"../data/stackoverflow/Posts.xml\")"
   ]
  },
  {
   "cell_type": "code",
   "execution_count": 5,
   "metadata": {
    "collapsed": false,
    "scrolled": true
   },
   "outputs": [
    {
     "name": "stdout",
     "output_type": "stream",
     "text": [
      "How do I build a GCC 4.7 toolchain for cross-compiling?\n",
      "\n",
      "\n",
      "<p>I already asked this <a href=\"http://stackoverflow.com/questions/10973020/cross-compilation-for-raspberry-pi-in-gcc-where-to-start\">question</a> on Stack Overflow, but  I would like to know if anyone managed to build a GCC 4.7 toolchain for ARM cross-compilation (for a x86/x86-64 Linux host). There are many instructins for building GCC from source and many available cross-compilers for pre-4.7 GCC versions, just not the latest one.</p>\n",
      "\n",
      "<p>Compiling on Rasp Pi itself works fine but is just a bit too slow for practical purposes.</p>\n",
      "\n",
      "<p>I am eager to get compiling and I would like to use the latest and the best tools.</p>\n",
      "\n"
     ]
    }
   ],
   "source": [
    "TXT = TXT_STREAM.next()\n",
    "print(TXT)"
   ]
  },
  {
   "cell_type": "markdown",
   "metadata": {},
   "source": [
    "---"
   ]
  },
  {
   "cell_type": "markdown",
   "metadata": {},
   "source": [
    "# Initial Cleaning of Text"
   ]
  },
  {
   "cell_type": "markdown",
   "metadata": {},
   "source": [
    "## Removing HTML Tags\n",
    "\n",
    "**`remove_html_bits`** uses BeautifulSoup and lxml to remove the HTML tags."
   ]
  },
  {
   "cell_type": "code",
   "execution_count": 6,
   "metadata": {
    "collapsed": false
   },
   "outputs": [
    {
     "name": "stdout",
     "output_type": "stream",
     "text": [
      "How do I build a GCC 4.7 toolchain for cross-compiling?\n",
      "\n",
      "\n",
      "I already asked this question on Stack Overflow, but  I would like to know if anyone managed to build a GCC 4.7 toolchain for ARM cross-compilation (for a x86/x86-64 Linux host). There are many instructins for building GCC from source and many available cross-compilers for pre-4.7 GCC versions, just not the latest one.\n",
      "Compiling on Rasp Pi itself works fine but is just a bit too slow for practical purposes.\n",
      "I am eager to get compiling and I would like to use the latest and the best tools.\n",
      "\n"
     ]
    }
   ],
   "source": [
    "NO_HTML = r2t.remove_html_bits(TXT)\n",
    "print(r2t.remove_html_bits(NO_HTML))"
   ]
  },
  {
   "cell_type": "markdown",
   "metadata": {},
   "source": [
    "## Fixing text encoding"
   ]
  },
  {
   "cell_type": "code",
   "execution_count": 7,
   "metadata": {
    "collapsed": false
   },
   "outputs": [
    {
     "name": "stdout",
     "output_type": "stream",
     "text": [
      "How do I build a GCC 4.7 toolchain for cross-compiling?\n",
      "\n",
      "\n",
      "I already asked this question on Stack Overflow, but  I would like to know if anyone managed to build a GCC 4.7 toolchain for ARM cross-compilation (for a x86/x86-64 Linux host). There are many instructins for building GCC from source and many available cross-compilers for pre-4.7 GCC versions, just not the latest one.\n",
      "Compiling on Rasp Pi itself works fine but is just a bit too slow for practical purposes.\n",
      "I am eager to get compiling and I would like to use the latest and the best tools.\n",
      "\n"
     ]
    }
   ],
   "source": [
    "UNICODE = r2t.decode_and_fix(NO_HTML)\n",
    "print(UNICODE)"
   ]
  },
  {
   "cell_type": "markdown",
   "metadata": {},
   "source": [
    "**Here's a better example of fixing text encoding**"
   ]
  },
  {
   "cell_type": "code",
   "execution_count": 8,
   "metadata": {
    "collapsed": false
   },
   "outputs": [
    {
     "name": "stdout",
     "output_type": "stream",
     "text": [
      "uÌˆnicode\n"
     ]
    }
   ],
   "source": [
    "MESSED_UP_TEXT = b'uÌˆnicode'\n",
    "print(MESSED_UP_TEXT)"
   ]
  },
  {
   "cell_type": "code",
   "execution_count": 9,
   "metadata": {
    "collapsed": false
   },
   "outputs": [
    {
     "data": {
      "text/plain": [
       "u'unicode'"
      ]
     },
     "execution_count": 9,
     "metadata": {},
     "output_type": "execute_result"
    }
   ],
   "source": [
    "r2t.decode_and_fix(MESSED_UP_TEXT)"
   ]
  },
  {
   "cell_type": "markdown",
   "metadata": {},
   "source": [
    "Broken down by component:"
   ]
  },
  {
   "cell_type": "code",
   "execution_count": 10,
   "metadata": {
    "collapsed": false
   },
   "outputs": [
    {
     "name": "stdout",
     "output_type": "stream",
     "text": [
      "uÌˆnicode\n"
     ]
    }
   ],
   "source": [
    "UNI_MESSED_UP_TEXT = r2t.adv_decode(MESSED_UP_TEXT)\n",
    "print(UNI_MESSED_UP_TEXT)"
   ]
  },
  {
   "cell_type": "code",
   "execution_count": 11,
   "metadata": {
    "collapsed": false
   },
   "outputs": [
    {
     "name": "stdout",
     "output_type": "stream",
     "text": [
      "ünicode\n"
     ]
    }
   ],
   "source": [
    "CLEAN_UNI_MESSED_UP_TEXT = r2t.clean_unicode(UNI_MESSED_UP_TEXT)\n",
    "print(CLEAN_UNI_MESSED_UP_TEXT)"
   ]
  },
  {
   "cell_type": "code",
   "execution_count": 12,
   "metadata": {
    "collapsed": false
   },
   "outputs": [
    {
     "name": "stdout",
     "output_type": "stream",
     "text": [
      "unicode\n"
     ]
    }
   ],
   "source": [
    "print(r2t.normize_text(CLEAN_UNI_MESSED_UP_TEXT))"
   ]
  },
  {
   "cell_type": "markdown",
   "metadata": {},
   "source": [
    "## Putting All Those Steps together"
   ]
  },
  {
   "cell_type": "code",
   "execution_count": 13,
   "metadata": {
    "collapsed": false
   },
   "outputs": [
    {
     "name": "stdout",
     "output_type": "stream",
     "text": [
      "How do I build a GCC 4.7 toolchain for cross-compiling?\n",
      "\n",
      "\n",
      "I already asked this question on Stack Overflow, but  I would like to know if anyone managed to build a GCC 4.7 toolchain for ARM cross-compilation (for a x86/x86-64 Linux host). There are many instructins for building GCC from source and many available cross-compilers for pre-4.7 GCC versions, just not the latest one.\n",
      "Compiling on Rasp Pi itself works fine but is just a bit too slow for practical purposes.\n",
      "I am eager to get compiling and I would like to use the latest and the best tools.\n",
      "\n"
     ]
    }
   ],
   "source": [
    "CLEAN_TXT = tlz.pipe(TXT,\n",
    "                     r2t.remove_html_bits,\n",
    "                     r2t.adv_decode,\n",
    "                     r2t.clean_unicode,\n",
    "                     r2t.normize_text)\n",
    "print(CLEAN_TXT)"
   ]
  },
  {
   "cell_type": "markdown",
   "metadata": {},
   "source": [
    "# Tokenizing"
   ]
  },
  {
   "cell_type": "markdown",
   "metadata": {},
   "source": [
    "**The Goal:**\n",
    "\n",
    "```python\n",
    "@tlz.curry\n",
    "def ngram_tuples(n, string, minlen=3, maxlen=25):\n",
    "    return tlz.pipe(string,\n",
    "                    lower,\n",
    "                    simple_split,\n",
    "                    filter_longer_than(maxlen),\n",
    "                    compose(concat, map, splitter_of_words),\n",
    "                    filter_shorter_than(minlen),\n",
    "                    filter_stopwords,\n",
    "                    sliding_window_c(n),\n",
    "                    map_c(join_strings(\"_\")))\n",
    "```"
   ]
  },
  {
   "cell_type": "markdown",
   "metadata": {},
   "source": [
    "**`lower`**"
   ]
  },
  {
   "cell_type": "code",
   "execution_count": 14,
   "metadata": {
    "collapsed": false,
    "scrolled": true
   },
   "outputs": [
    {
     "name": "stdout",
     "output_type": "stream",
     "text": [
      "how do i build a gcc 4.7 toolchain for cross-compiling?\n",
      "\n",
      "\n",
      "i already asked this question on stack overflow, but  i would like to know if anyone managed to build a gcc 4.7 toolchain for arm cross-compilation (for a x86/x86-64 linux host). there are many instructins for building gcc from source and many available cross-compilers for pre-4.7 gcc versions, just not the latest one.\n",
      "compiling on rasp pi itself works fine but is just a bit too slow for practical purposes.\n",
      "i am eager to get compiling and i would like to use the latest and the best tools.\n",
      "\n"
     ]
    }
   ],
   "source": [
    "LOW_TXT = t2t.lower(CLEAN_TXT)\n",
    "print(LOW_TXT)"
   ]
  },
  {
   "cell_type": "markdown",
   "metadata": {},
   "source": [
    "**`simple_split`**"
   ]
  },
  {
   "cell_type": "code",
   "execution_count": 15,
   "metadata": {
    "collapsed": false
   },
   "outputs": [
    {
     "name": "stdout",
     "output_type": "stream",
     "text": [
      "[u'how', u'do', u'i', u'build', u'a', u'gcc', u'4.7', u'toolchain', u'for', u'cross-compiling?', u'i', u'already', u'asked', u'this', u'question', u'on', u'stack', u'overflow,', u'but', u'i', u'would', u'like', u'to', u'know', u'if', u'anyone', u'managed', u'to', u'build', u'a', u'gcc', u'4.7', u'toolchain', u'for', u'arm', u'cross-compilation', u'(for', u'a', u'x86/x86-64', u'linux', u'host).', u'there', u'are', u'many', u'instructins', u'for', u'building', u'gcc', u'from', u'source', u'and', u'many', u'available', u'cross-compilers', u'for', u'pre-4.7', u'gcc', u'versions,', u'just', u'not', u'the', u'latest', u'one.', u'compiling', u'on', u'rasp', u'pi', u'itself', u'works', u'fine', u'but', u'is', u'just', u'a', u'bit', u'too', u'slow', u'for', u'practical', u'purposes.', u'i', u'am', u'eager', u'to', u'get', u'compiling', u'and', u'i', u'would', u'like', u'to', u'use', u'the', u'latest', u'and', u'the', u'best', u'tools.']\n"
     ]
    }
   ],
   "source": [
    "SMPL_SPLIT_TXT = t2t.simple_split(LOW_TXT)\n",
    "print(SMPL_SPLIT_TXT)"
   ]
  },
  {
   "cell_type": "code",
   "execution_count": 16,
   "metadata": {
    "collapsed": false
   },
   "outputs": [
    {
     "name": "stdout",
     "output_type": "stream",
     "text": [
      "[u'how', u'do', u'i', u'build', u'a', u'gcc', u'4.7', u'toolchain', u'for', u'cross-compiling?', u'i', u'already', u'asked', u'this', u'question', u'on', u'stack', u'overflow,', u'but', u'i', u'would', u'like', u'to', u'know', u'if', u'anyone', u'managed', u'to', u'build', u'a', u'gcc', u'4.7', u'toolchain', u'for', u'arm', u'cross-compilation', u'(for', u'a', u'x86/x86-64', u'linux', u'host).', u'there', u'are', u'many', u'instructins', u'for', u'building', u'gcc', u'from', u'source', u'and', u'many', u'available', u'cross-compilers', u'for', u'pre-4.7', u'gcc', u'versions,', u'just', u'not', u'the', u'latest', u'one.', u'compiling', u'on', u'rasp', u'pi', u'itself', u'works', u'fine', u'but', u'is', u'just', u'a', u'bit', u'too', u'slow', u'for', u'practical', u'purposes.', u'i', u'am', u'eager', u'to', u'get', u'compiling', u'and', u'i', u'would', u'like', u'to', u'use', u'the', u'latest', u'and', u'the', u'best', u'tools.']\n"
     ]
    }
   ],
   "source": [
    "LONG_FILTERED = list(t2t.filter_longer_than(25, SMPL_SPLIT_TXT))\n",
    "print(LONG_FILTERED)"
   ]
  },
  {
   "cell_type": "code",
   "execution_count": 17,
   "metadata": {
    "collapsed": false
   },
   "outputs": [
    {
     "name": "stdout",
     "output_type": "stream",
     "text": [
      "[u'how', u'do', u'i', u'build', u'a', u'gcc', u'4', u'7', u'toolchain', u'for', u'cross', u'compiling', u'', u'i', u'already', u'asked', u'this', u'question', u'on', u'stack', u'overflow', u'', u'but', u'i', u'would', u'like', u'to', u'know', u'if', u'anyone', u'managed', u'to', u'build', u'a', u'gcc', u'4', u'7', u'toolchain', u'for', u'arm', u'cross', u'compilation', u'', u'for', u'a', u'x86', u'x86', u'64', u'linux', u'host', u'', u'there', u'are', u'many', u'instructins', u'for', u'building', u'gcc', u'from', u'source', u'and', u'many', u'available', u'cross', u'compilers', u'for', u'pre', u'4', u'7', u'gcc', u'versions', u'', u'just', u'not', u'the', u'latest', u'one', u'', u'compiling', u'on', u'rasp', u'pi', u'itself', u'works', u'fine', u'but', u'is', u'just', u'a', u'bit', u'too', u'slow', u'for', u'practical', u'purposes', u'', u'i', u'am', u'eager', u'to', u'get', u'compiling', u'and', u'i', u'would', u'like', u'to', u'use', u'the', u'latest', u'and', u'the', u'best', u'tools', u'']\n"
     ]
    }
   ],
   "source": [
    "NON_ALPHANUM_SPLIT = list(tlz.concat(tlz.map(t2t.splitter_of_words, LONG_FILTERED)))\n",
    "print(NON_ALPHANUM_SPLIT)"
   ]
  },
  {
   "cell_type": "code",
   "execution_count": 18,
   "metadata": {
    "collapsed": false
   },
   "outputs": [
    {
     "name": "stdout",
     "output_type": "stream",
     "text": [
      "[u'how', u'build', u'gcc', u'toolchain', u'for', u'cross', u'compiling', u'already', u'asked', u'this', u'question', u'stack', u'overflow', u'but', u'would', u'like', u'know', u'anyone', u'managed', u'build', u'gcc', u'toolchain', u'for', u'arm', u'cross', u'compilation', u'for', u'x86', u'x86', u'linux', u'host', u'there', u'are', u'many', u'instructins', u'for', u'building', u'gcc', u'from', u'source', u'and', u'many', u'available', u'cross', u'compilers', u'for', u'pre', u'gcc', u'versions', u'just', u'not', u'the', u'latest', u'one', u'compiling', u'rasp', u'itself', u'works', u'fine', u'but', u'just', u'bit', u'too', u'slow', u'for', u'practical', u'purposes', u'eager', u'get', u'compiling', u'and', u'would', u'like', u'use', u'the', u'latest', u'and', u'the', u'best', u'tools']\n"
     ]
    }
   ],
   "source": [
    "SHORT_FILTERED = list(t2t.filter_shorter_than(3, NON_ALPHANUM_SPLIT))\n",
    "print(SHORT_FILTERED)"
   ]
  },
  {
   "cell_type": "code",
   "execution_count": 19,
   "metadata": {
    "collapsed": false,
    "scrolled": true
   },
   "outputs": [
    {
     "name": "stdout",
     "output_type": "stream",
     "text": [
      "[u'build', u'gcc', u'toolchain', u'cross', u'compiling', u'asked', u'question', u'stack', u'overflow', u'like', u'know', u'managed', u'build', u'gcc', u'toolchain', u'arm', u'cross', u'compilation', u'x86', u'x86', u'linux', u'host', u'instructins', u'building', u'gcc', u'source', u'available', u'cross', u'compilers', u'pre', u'gcc', u'versions', u'latest', u'compiling', u'rasp', u'works', u'fine', u'bit', u'slow', u'practical', u'purposes', u'eager', u'compiling', u'like', u'use', u'latest', u'best', u'tools']\n"
     ]
    }
   ],
   "source": [
    "NON_STOP = list(t2t.filter_stopwords(SHORT_FILTERED))\n",
    "print(NON_STOP)"
   ]
  },
  {
   "cell_type": "code",
   "execution_count": 20,
   "metadata": {
    "collapsed": false
   },
   "outputs": [
    {
     "name": "stdout",
     "output_type": "stream",
     "text": [
      "[(u'build',), (u'gcc',), (u'toolchain',), (u'cross',), (u'compiling',), (u'asked',), (u'question',), (u'stack',), (u'overflow',), (u'like',), (u'know',), (u'managed',), (u'build',), (u'gcc',), (u'toolchain',), (u'arm',), (u'cross',), (u'compilation',), (u'x86',), (u'x86',), (u'linux',), (u'host',), (u'instructins',), (u'building',), (u'gcc',), (u'source',), (u'available',), (u'cross',), (u'compilers',), (u'pre',), (u'gcc',), (u'versions',), (u'latest',), (u'compiling',), (u'rasp',), (u'works',), (u'fine',), (u'bit',), (u'slow',), (u'practical',), (u'purposes',), (u'eager',), (u'compiling',), (u'like',), (u'use',), (u'latest',), (u'best',), (u'tools',)]\n"
     ]
    }
   ],
   "source": [
    "UNI_T = list(t2t.sliding_window_c(1, NON_STOP))\n",
    "print(UNI_T)"
   ]
  },
  {
   "cell_type": "code",
   "execution_count": 21,
   "metadata": {
    "collapsed": false,
    "scrolled": true
   },
   "outputs": [
    {
     "name": "stdout",
     "output_type": "stream",
     "text": [
      "[(u'build', u'gcc'), (u'gcc', u'toolchain'), (u'toolchain', u'cross'), (u'cross', u'compiling'), (u'compiling', u'asked'), (u'asked', u'question'), (u'question', u'stack'), (u'stack', u'overflow'), (u'overflow', u'like'), (u'like', u'know'), (u'know', u'managed'), (u'managed', u'build'), (u'build', u'gcc'), (u'gcc', u'toolchain'), (u'toolchain', u'arm'), (u'arm', u'cross'), (u'cross', u'compilation'), (u'compilation', u'x86'), (u'x86', u'x86'), (u'x86', u'linux'), (u'linux', u'host'), (u'host', u'instructins'), (u'instructins', u'building'), (u'building', u'gcc'), (u'gcc', u'source'), (u'source', u'available'), (u'available', u'cross'), (u'cross', u'compilers'), (u'compilers', u'pre'), (u'pre', u'gcc'), (u'gcc', u'versions'), (u'versions', u'latest'), (u'latest', u'compiling'), (u'compiling', u'rasp'), (u'rasp', u'works'), (u'works', u'fine'), (u'fine', u'bit'), (u'bit', u'slow'), (u'slow', u'practical'), (u'practical', u'purposes'), (u'purposes', u'eager'), (u'eager', u'compiling'), (u'compiling', u'like'), (u'like', u'use'), (u'use', u'latest'), (u'latest', u'best'), (u'best', u'tools')]\n"
     ]
    }
   ],
   "source": [
    "BI_T = list(t2t.sliding_window_c(2, NON_STOP))\n",
    "print(BI_T)"
   ]
  },
  {
   "cell_type": "code",
   "execution_count": 22,
   "metadata": {
    "collapsed": false
   },
   "outputs": [
    {
     "name": "stdout",
     "output_type": "stream",
     "text": [
      "[u'build', u'gcc', u'toolchain', u'cross', u'compiling', u'asked', u'question', u'stack', u'overflow', u'like', u'know', u'managed', u'build', u'gcc', u'toolchain', u'arm', u'cross', u'compilation', u'x86', u'x86', u'linux', u'host', u'instructins', u'building', u'gcc', u'source', u'available', u'cross', u'compilers', u'pre', u'gcc', u'versions', u'latest', u'compiling', u'rasp', u'works', u'fine', u'bit', u'slow', u'practical', u'purposes', u'eager', u'compiling', u'like', u'use', u'latest', u'best', u'tools']\n"
     ]
    }
   ],
   "source": [
    "_UNIGRAMS = map(t2t.join_strings(\"_\"), UNI_T)\n",
    "print(_UNIGRAMS)"
   ]
  },
  {
   "cell_type": "code",
   "execution_count": 23,
   "metadata": {
    "collapsed": false
   },
   "outputs": [
    {
     "name": "stdout",
     "output_type": "stream",
     "text": [
      "[u'build_gcc', u'gcc_toolchain', u'toolchain_cross', u'cross_compiling', u'compiling_asked', u'asked_question', u'question_stack', u'stack_overflow', u'overflow_like', u'like_know', u'know_managed', u'managed_build', u'build_gcc', u'gcc_toolchain', u'toolchain_arm', u'arm_cross', u'cross_compilation', u'compilation_x86', u'x86_x86', u'x86_linux', u'linux_host', u'host_instructins', u'instructins_building', u'building_gcc', u'gcc_source', u'source_available', u'available_cross', u'cross_compilers', u'compilers_pre', u'pre_gcc', u'gcc_versions', u'versions_latest', u'latest_compiling', u'compiling_rasp', u'rasp_works', u'works_fine', u'fine_bit', u'bit_slow', u'slow_practical', u'practical_purposes', u'purposes_eager', u'eager_compiling', u'compiling_like', u'like_use', u'use_latest', u'latest_best', u'best_tools']\n"
     ]
    }
   ],
   "source": [
    "_BIGRAMS = map(t2t.join_strings(\"_\"), BI_T)\n",
    "print(_BIGRAMS)"
   ]
  },
  {
   "cell_type": "markdown",
   "metadata": {},
   "source": [
    "### Putting it together"
   ]
  },
  {
   "cell_type": "code",
   "execution_count": 24,
   "metadata": {
    "collapsed": false
   },
   "outputs": [
    {
     "name": "stdout",
     "output_type": "stream",
     "text": [
      "(u'build_gcc_toolchain', u'gcc_toolchain_cross', u'toolchain_cross_compiling', u'cross_compiling_asked', u'compiling_asked_question', u'asked_question_stack', u'question_stack_overflow', u'stack_overflow_like', u'overflow_like_know', u'like_know_managed', u'know_managed_build', u'managed_build_gcc', u'build_gcc_toolchain', u'gcc_toolchain_arm', u'toolchain_arm_cross', u'arm_cross_compilation', u'cross_compilation_x86', u'compilation_x86_x86', u'x86_x86_linux', u'x86_linux_host', u'linux_host_instructins', u'host_instructins_building', u'instructins_building_gcc', u'building_gcc_source', u'gcc_source_available', u'source_available_cross', u'available_cross_compilers', u'cross_compilers_pre', u'compilers_pre_gcc', u'pre_gcc_versions', u'gcc_versions_latest', u'versions_latest_compiling', u'latest_compiling_rasp', u'compiling_rasp_works', u'rasp_works_fine', u'works_fine_bit', u'fine_bit_slow', u'bit_slow_practical', u'slow_practical_purposes', u'practical_purposes_eager', u'purposes_eager_compiling', u'eager_compiling_like', u'compiling_like_use', u'like_use_latest', u'use_latest_best', u'latest_best_tools')\n"
     ]
    }
   ],
   "source": [
    "TRIGRAMS = tuple(tlz.pipe(CLEAN_TXT,\n",
    "                 t2t.lower,\n",
    "                 t2t.simple_split,\n",
    "                 t2t.filter_longer_than(25),  # curried \n",
    "                 tlz.compose(tlz.concat, t2t.map_c(t2t.splitter_of_words)),\n",
    "                 t2t.filter_shorter_than(3),  # curried\n",
    "                 t2t.filter_stopwords,\n",
    "                 t2t.sliding_window_c(3),  # curried\n",
    "                 t2t.map_c(t2t.join_strings(\"_\"))))  # A lot of curry\n",
    "print(TRIGRAMS)"
   ]
  },
  {
   "cell_type": "markdown",
   "metadata": {},
   "source": [
    "# Counts"
   ]
  },
  {
   "cell_type": "code",
   "execution_count": 25,
   "metadata": {
    "collapsed": false,
    "scrolled": true
   },
   "outputs": [
    {
     "name": "stdout",
     "output_type": "stream",
     "text": [
      "[(u'pre', 1), (u'managed', 1), (u'overflow', 1), (u'purposes', 1), (u'linux', 1), (u'tools', 1), (u'arm', 1), (u'best', 1), (u'gcc', 4), (u'slow', 1), (u'source', 1), (u'fine', 1), (u'question', 1), (u'cross', 3), (u'eager', 1), (u'compiling', 3), (u'build', 2), (u'rasp', 1), (u'compilers', 1), (u'available', 1), (u'x86', 2), (u'compilation', 1), (u'use', 1), (u'host', 1), (u'know', 1), (u'bit', 1), (u'stack', 1), (u'building', 1), (u'toolchain', 2), (u'like', 2), (u'versions', 1), (u'practical', 1), (u'instructins', 1), (u'works', 1), (u'asked', 1), (u'latest', 2)]\n"
     ]
    }
   ],
   "source": [
    "print(t2n.freq(list(t2t.unigram(CLEAN_TXT))))"
   ]
  },
  {
   "cell_type": "code",
   "execution_count": null,
   "metadata": {
    "collapsed": true
   },
   "outputs": [],
   "source": []
  },
  {
   "cell_type": "code",
   "execution_count": null,
   "metadata": {
    "collapsed": true
   },
   "outputs": [],
   "source": []
  },
  {
   "cell_type": "code",
   "execution_count": 5,
   "metadata": {
    "collapsed": true
   },
   "outputs": [],
   "source": [
    "tkn_maker = tlz.compose(tuple, t2t.uni_and_bigram_tuples, r2t.decode_and_fix, r2t.remove_html_bits)"
   ]
  },
  {
   "cell_type": "code",
   "execution_count": 6,
   "metadata": {
    "collapsed": true
   },
   "outputs": [],
   "source": [
    "POST_STREAM = list(r2t.get_text_from_xml_file(\"../data/stackoverflow/Posts.xml\"))"
   ]
  },
  {
   "cell_type": "markdown",
   "metadata": {},
   "source": [
    "**Serial Version**"
   ]
  },
  {
   "cell_type": "code",
   "execution_count": 29,
   "metadata": {
    "collapsed": false,
    "scrolled": false
   },
   "outputs": [
    {
     "name": "stdout",
     "output_type": "stream",
     "text": [
      "CPU times: user 1min 9s, sys: 583 ms, total: 1min 10s\n",
      "Wall time: 1min 10s\n"
     ]
    }
   ],
   "source": [
    "%time OUT0 = txt2m.total_counts(tlz.map(tkn_maker, POST_STREAM))"
   ]
  },
  {
   "cell_type": "code",
   "execution_count": 7,
   "metadata": {
    "collapsed": false,
    "scrolled": false
   },
   "outputs": [
    {
     "name": "stdout",
     "output_type": "stream",
     "text": [
      "CPU times: user 1min 16s, sys: 1.16 s, total: 1min 17s\n",
      "Wall time: 1min 20s\n"
     ]
    }
   ],
   "source": [
    "%time OUT0 = tlz.pipe(tlz.map(tkn_maker, POST_STREAM), txt2m.total_counts)"
   ]
  },
  {
   "cell_type": "markdown",
   "metadata": {},
   "source": [
    "**Parallel Version**"
   ]
  },
  {
   "cell_type": "code",
   "execution_count": 9,
   "metadata": {
    "collapsed": true
   },
   "outputs": [],
   "source": [
    "from multiprocessing import Pool\n",
    "p = Pool(8)\n",
    "pmap = p.map"
   ]
  },
  {
   "cell_type": "code",
   "execution_count": 10,
   "metadata": {
    "collapsed": false,
    "scrolled": true
   },
   "outputs": [
    {
     "name": "stdout",
     "output_type": "stream",
     "text": [
      "CPU times: user 2.86 s, sys: 680 ms, total: 3.54 s\n",
      "Wall time: 34.9 s\n"
     ]
    }
   ],
   "source": [
    "%time OUT1 = txt2m.total_counts(pmap(tkn_maker, POST_STREAM))"
   ]
  },
  {
   "cell_type": "code",
   "execution_count": 10,
   "metadata": {
    "collapsed": false,
    "scrolled": true
   },
   "outputs": [
    {
     "name": "stdout",
     "output_type": "stream",
     "text": [
      "CPU times: user 3.51 s, sys: 907 ms, total: 4.42 s\n",
      "Wall time: 36.8 s\n"
     ]
    }
   ],
   "source": [
    "%time OUT1 = tlz.pipe(pmap(tkn_maker, POST_STREAM), txt2m.total_counts)"
   ]
  },
  {
   "cell_type": "code",
   "execution_count": 11,
   "metadata": {
    "collapsed": false
   },
   "outputs": [
    {
     "data": {
      "text/plain": [
       "789541"
      ]
     },
     "execution_count": 11,
     "metadata": {},
     "output_type": "execute_result"
    }
   ],
   "source": [
    "len(OUT1)"
   ]
  },
  {
   "cell_type": "code",
   "execution_count": 17,
   "metadata": {
    "collapsed": true
   },
   "outputs": [
    {
     "data": {
      "text/plain": [
       "[(u'problems', 1066),\n",
       " (u'wrong', 1066),\n",
       " (u'enable', 1065),\n",
       " (u'lot', 1065),\n",
       " (u'powered', 1060),\n",
       " (u'won', 1056),\n",
       " (u'long', 1055),\n",
       " (u'download', 1035),\n",
       " (u'best', 1033),\n",
       " (u'info', 1021),\n",
       " (u'service', 1016),\n",
       " (u'similar', 1009),\n",
       " (u'idea', 1003),\n",
       " (u'interfaces', 1003),\n",
       " (u'sound', 997),\n",
       " (u'commands', 996),\n",
       " (u'return', 985),\n",
       " (u'gpio_pins', 984),\n",
       " (u'gui', 983),\n",
       " (u'function', 981),\n",
       " (u'media', 968),\n",
       " (u'include', 965),\n",
       " (u'reading', 964),\n",
       " (u'worked', 961),\n",
       " (u'ports', 961),\n",
       " (u'connecting', 951),\n",
       " (u'signal', 948),\n",
       " (u'configure', 948),\n",
       " (u'light', 947),\n",
       " (u'raspbmc', 946),\n",
       " (u'motion', 946),\n",
       " (u'debug', 938),\n",
       " (u'daemon', 936),\n",
       " (u'free', 935),\n",
       " (u'message', 935),\n",
       " (u'remove', 934),\n",
       " (u'specific', 932),\n",
       " (u'copy', 930),\n",
       " (u'little', 930),\n",
       " (u'post', 922),\n",
       " (u'isn', 919),\n",
       " (u'machine', 919),\n",
       " (u'format', 912),\n",
       " (u'order', 912),\n",
       " (u'standard', 911),\n",
       " (u'correct', 909),\n",
       " (u'load', 907),\n",
       " (u'maybe', 894),\n",
       " (u'fix', 889),\n",
       " (u'cards', 883)]"
      ]
     },
     "execution_count": 17,
     "metadata": {},
     "output_type": "execute_result"
    }
   ],
   "source": [
    "sorted(OUT1, key=lambda t: t[1], reverse=True)[250:300]"
   ]
  },
  {
   "cell_type": "code",
   "execution_count": null,
   "metadata": {
    "collapsed": true
   },
   "outputs": [],
   "source": [
    "tkn_maker_uni = tlz.compose(tuple, t2t., r2t.decode_and_fix, r2t.remove_html_bits)\n",
    "%time OUT2 = txt2m.total_counts(pmap(tkn_maker_uni, POST_STREAM))"
   ]
  },
  {
   "cell_type": "code",
   "execution_count": null,
   "metadata": {
    "collapsed": true
   },
   "outputs": [],
   "source": []
  }
 ],
 "metadata": {
  "kernelspec": {
   "display_name": "Python 2",
   "language": "python",
   "name": "python2"
  },
  "language_info": {
   "codemirror_mode": {
    "name": "ipython",
    "version": 2
   },
   "file_extension": ".py",
   "mimetype": "text/x-python",
   "name": "python",
   "nbconvert_exporter": "python",
   "pygments_lexer": "ipython2",
   "version": "2.7.10"
  }
 },
 "nbformat": 4,
 "nbformat_minor": 0
}
